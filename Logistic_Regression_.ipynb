{
  "nbformat": 4,
  "nbformat_minor": 0,
  "metadata": {
    "colab": {
      "provenance": []
    },
    "kernelspec": {
      "name": "python3",
      "display_name": "Python 3"
    },
    "language_info": {
      "name": "python"
    }
  },
  "cells": [
    {
      "cell_type": "markdown",
      "source": [
        "Logistic Regression is a popular supervised learning algorithm used for binary classification tasks, where the target variable has two classes.\n",
        "\n",
        "Here's a step-by-step guide to implementing Logistic Regression using Python and the popular machine learning library, scikit-learn:"
      ],
      "metadata": {
        "id": "VW58_TycGuvU"
      }
    },
    {
      "cell_type": "markdown",
      "source": [
        "**Step 1: Import the required libraries**"
      ],
      "metadata": {
        "id": "5uZoOMAAGved"
      }
    },
    {
      "cell_type": "code",
      "source": [
        "from sklearn.linear_model import LogisticRegression\n",
        "from sklearn.model_selection import train_test_split\n",
        "from sklearn.metrics import accuracy_score, classification_report\n"
      ],
      "metadata": {
        "id": "uihjo9FjGxlC"
      },
      "execution_count": null,
      "outputs": []
    },
    {
      "cell_type": "markdown",
      "source": [
        "**Step 2: Prepare the dataset**"
      ],
      "metadata": {
        "id": "zhr_-wT8Gy_U"
      }
    },
    {
      "cell_type": "code",
      "source": [
        "# Assuming X and y are NumPy arrays or pandas DataFrames\n",
        "X = ...  # Input features\n",
        "y = ...  # Target variable\n"
      ],
      "metadata": {
        "id": "ZUKvtyZDG1Sl"
      },
      "execution_count": null,
      "outputs": []
    },
    {
      "cell_type": "markdown",
      "source": [
        "**Step 3: Split the dataset into training and testing sets**"
      ],
      "metadata": {
        "id": "MCbUlkOpG2sc"
      }
    },
    {
      "cell_type": "code",
      "source": [
        "X_train, X_test, y_train, y_test = train_test_split(X, y, test_size=0.2, random_state=42)\n"
      ],
      "metadata": {
        "id": "ckThsP-3G5AM"
      },
      "execution_count": null,
      "outputs": []
    },
    {
      "cell_type": "markdown",
      "source": [
        "**Step 4: Create and train the Logistic Regression model**"
      ],
      "metadata": {
        "id": "FbpASuwBG6VU"
      }
    },
    {
      "cell_type": "code",
      "source": [
        "model = LogisticRegression()\n",
        "model.fit(X_train, y_train)\n"
      ],
      "metadata": {
        "id": "kFu5VTf4G8Zb"
      },
      "execution_count": null,
      "outputs": []
    },
    {
      "cell_type": "markdown",
      "source": [
        "**Step 5: Make predictions**"
      ],
      "metadata": {
        "id": "jgR1uQn3G-EN"
      }
    },
    {
      "cell_type": "code",
      "source": [
        "y_pred = model.predict(X_test)\n"
      ],
      "metadata": {
        "id": "JPil8qpnHCD1"
      },
      "execution_count": null,
      "outputs": []
    },
    {
      "cell_type": "markdown",
      "source": [
        "**Step 6: Evaluate the model**"
      ],
      "metadata": {
        "id": "QyQb2n17HDOL"
      }
    },
    {
      "cell_type": "code",
      "source": [
        "accuracy = accuracy_score(y_test, y_pred)\n",
        "classification_report = classification_report(y_test, y_pred)\n"
      ],
      "metadata": {
        "id": "ptBvylj1HFhj"
      },
      "execution_count": null,
      "outputs": []
    },
    {
      "cell_type": "markdown",
      "source": [
        "**Step 7: Print the evaluation results**"
      ],
      "metadata": {
        "id": "ujipiUK_HHna"
      }
    },
    {
      "cell_type": "code",
      "source": [
        "print(f\"Accuracy: {accuracy}\")\n",
        "print(f\"Classification Report:\\n{classification_report}\")\n"
      ],
      "metadata": {
        "id": "JYko8054HJ2z"
      },
      "execution_count": null,
      "outputs": []
    }
  ]
}