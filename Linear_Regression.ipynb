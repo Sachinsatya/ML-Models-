{
  "nbformat": 4,
  "nbformat_minor": 0,
  "metadata": {
    "colab": {
      "provenance": []
    },
    "kernelspec": {
      "name": "python3",
      "display_name": "Python 3"
    },
    "language_info": {
      "name": "python"
    }
  },
  "cells": [
    {
      "cell_type": "markdown",
      "source": [
        "Linear Regression is a popular supervised learning algorithm used for predicting continuous numerical values based on input features."
      ],
      "metadata": {
        "id": "ZPrCmSAUFqrU"
      }
    },
    {
      "cell_type": "markdown",
      "source": [
        "Here's a step-by-step guide to implementing Linear Regression using Python and the popular machine learning library, scikit-learn:"
      ],
      "metadata": {
        "id": "Cbx_HxHiFvSd"
      }
    },
    {
      "cell_type": "markdown",
      "source": [
        "**Step 1: Import the required libraries**"
      ],
      "metadata": {
        "id": "lTAeAv9wFwhS"
      }
    },
    {
      "cell_type": "code",
      "source": [
        "import numpy as np\n",
        "from sklearn.linear_model import LinearRegression\n",
        "from sklearn.model_selection import train_test_split\n",
        "from sklearn.metrics import mean_squared_error\n"
      ],
      "metadata": {
        "id": "k4vBWoe-FzhV"
      },
      "execution_count": null,
      "outputs": []
    },
    {
      "cell_type": "markdown",
      "source": [
        "**Step 2: Prepare the dataset**\n",
        "For this example, let's assume you have a dataset with two variables, X (input features) and y (target variable).\n",
        "\n"
      ],
      "metadata": {
        "id": "_D5cD4GhF1RV"
      }
    },
    {
      "cell_type": "code",
      "source": [
        "# Assuming X and y are NumPy arrays\n",
        "X = ...  # Input features\n",
        "y = ...  # Target variable\n"
      ],
      "metadata": {
        "id": "KYFQBvcDF5uJ"
      },
      "execution_count": null,
      "outputs": []
    },
    {
      "cell_type": "markdown",
      "source": [
        "**Step 3: Split the dataset into training and testing sets**"
      ],
      "metadata": {
        "id": "K4-9bKi4F7gb"
      }
    },
    {
      "cell_type": "code",
      "source": [
        "X_train, X_test, y_train, y_test = train_test_split(X, y, test_size=0.2, random_state=42)\n"
      ],
      "metadata": {
        "id": "yMTEcvSIGAMr"
      },
      "execution_count": null,
      "outputs": []
    },
    {
      "cell_type": "markdown",
      "source": [
        "**Step 4: Create and train the Linear Regression model**"
      ],
      "metadata": {
        "id": "th7tzw9GGB1u"
      }
    },
    {
      "cell_type": "code",
      "source": [
        "model = LinearRegression()\n",
        "model.fit(X_train, y_train)\n"
      ],
      "metadata": {
        "id": "FpfC43WuGEcU"
      },
      "execution_count": null,
      "outputs": []
    },
    {
      "cell_type": "markdown",
      "source": [
        "**Step 5: Make predictions**"
      ],
      "metadata": {
        "id": "XO4fQjPIGGIC"
      }
    },
    {
      "cell_type": "code",
      "source": [
        "y_pred = model.predict(X_test)\n"
      ],
      "metadata": {
        "id": "GQdE7OxAGJMD"
      },
      "execution_count": null,
      "outputs": []
    },
    {
      "cell_type": "markdown",
      "source": [
        "**Step 7: Print the evaluation results**"
      ],
      "metadata": {
        "id": "-9gy1aeuGLTD"
      }
    },
    {
      "cell_type": "code",
      "source": [
        "print(f\"Mean Squared Error: {mse}\")\n",
        "print(f\"Root Mean Squared Error: {rmse}\")\n"
      ],
      "metadata": {
        "id": "ySob-1-VGOqE"
      },
      "execution_count": null,
      "outputs": []
    }
  ]
}